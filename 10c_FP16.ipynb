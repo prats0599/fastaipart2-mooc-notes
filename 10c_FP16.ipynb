{
 "cells": [
  {
   "cell_type": "markdown",
   "metadata": {},
   "source": [
    "Run these two cells to install the Nvidia apex library."
   ]
  },
  {
   "cell_type": "code",
   "execution_count": 1,
   "metadata": {
    "colab": {
     "base_uri": "https://localhost:8080/",
     "height": 35
    },
    "colab_type": "code",
    "id": "DmtctdpqkYIU",
    "outputId": "e19fa358-c4e1-490d-d2e4-a37c67ad25c6"
   },
   "outputs": [],
   "source": [
    "#  ! git clone --recursive https://github.com/NVIDIA/apex.git"
   ]
  },
  {
   "cell_type": "code",
   "execution_count": 6,
   "metadata": {
    "colab": {
     "base_uri": "https://localhost:8080/",
     "height": 1000
    },
    "colab_type": "code",
    "id": "74077PAtlAb4",
    "outputId": "160de001-7614-4506-c3f8-85d87f111c25"
   },
   "outputs": [],
   "source": [
    "# !pip install -v --no-cache-dir --global-option=\"--cpp_ext\" --global-option=\"--cuda_ext\" ./apex/"
   ]
  },
  {
   "cell_type": "markdown",
   "metadata": {
    "colab_type": "text",
    "id": "g-NMcR6gjle0"
   },
   "source": [
    "# Training in mixed precision"
   ]
  },
  {
   "cell_type": "code",
   "execution_count": 3,
   "metadata": {
    "colab": {
     "base_uri": "https://localhost:8080/",
     "height": 52
    },
    "colab_type": "code",
    "id": "0uGaTKFAjle3",
    "outputId": "320e6c2d-6533-4d79-e0c4-42e85bdb9e73"
   },
   "outputs": [],
   "source": [
    "%load_ext autoreload\n",
    "%autoreload 2\n",
    "\n",
    "%matplotlib inline"
   ]
  },
  {
   "cell_type": "code",
   "execution_count": 4,
   "metadata": {
    "colab": {},
    "colab_type": "code",
    "id": "rv_zcWsXjle_"
   },
   "outputs": [],
   "source": [
    "#export\n",
    "from exp.nb_10b import *"
   ]
  },
  {
   "cell_type": "markdown",
   "metadata": {
    "colab_type": "text",
    "id": "ps5vSXtWjlfH"
   },
   "source": [
    "## A little bit of theory"
   ]
  },
  {
   "cell_type": "markdown",
   "metadata": {
    "colab_type": "text",
    "id": "ims_Z6ggjlfI"
   },
   "source": [
    "Continuing the documentation on the fastai_v1 development here is a brief piece about mixed precision training. A very nice and clear introduction to it is [this video from NVIDIA](http://on-demand.gputechconf.com/gtc/2018/video/S81012/).\n",
    "\n",
    "### What's half precision?\n",
    "In neural nets, all the computations are usually done in single precision, which means all the floats in all the arrays that represent inputs, activations, weights... are 32-bit floats (FP32 in the rest of this post). An idea to reduce memory usage (and avoid those annoying cuda errors) has been to try and do the same thing in half-precision, which means using 16-bits floats (or FP16 in the rest of this post). By definition, they take half the space in RAM, and in theory could allow you to double the size of your model and double your batch size.\n",
    "\n",
    "Another very nice feature is that NVIDIA developed its latest GPUs (the Volta generation) to take fully advantage of half-precision tensors. Basically, if you give half-precision tensors to those, they'll stack them so that each core can do more operations at the same time, and theoretically gives an 8x speed-up (sadly, just in theory).\n",
    "\n",
    "So training at half precision is better for your memory usage, way faster if you have a Volta GPU (still a tiny bit faster if you don't since the computations are easiest). How do we do it? Super easily in pytorch, we just have to put .half() everywhere: on the inputs of our model and all the parameters. Problem is that you usually won't see the same accuracy in the end (so it happens sometimes) because half-precision is... well... not as precise ;).\n",
    "\n",
    "### Problems with half-precision:\n",
    "To understand the problems with half precision, let's look briefly at what an FP16 looks like (more information [here](https://en.wikipedia.org/wiki/Half-precision_floating-point_format)).\n",
    "\n",
    "![half float](images/half.png)\n",
    "\n",
    "The sign bit gives us +1 or -1, then we have 5 bits to code an exponent between -14 and 15, while the fraction part has the remaining 10 bits. Compared to FP32, we have a smaller range of possible values (2e-14 to 2e15 roughly, compared to 2e-126 to 2e127 for FP32) but also a smaller *offset*.\n",
    "\n",
    "For instance, between 1 and 2, the FP16 format only represents the number 1, 1+2e-10, 1+2*2e-10... which means that 1 + 0.0001 = 1 in half precision. That's what will cause a certain numbers of problems, specifically three that can occur and mess up your training.\n",
    "1. The weight update is imprecise: inside your optimizer, you basically do w = w - lr * w.grad for each weight of your network. The problem in performing this operation in half precision is that very often, w.grad is several orders of magnitude below w, and the learning rate is also small. The situation where w=1 and lr*w.grad is 0.0001 (or lower) is therefore very common, but the update doesn't do anything in those cases.\n",
    "2. Your gradients can underflow. In FP16, your gradients can easily be replaced by 0 because they are too low.\n",
    "3. Your activations or loss can overflow. The opposite problem from the gradients: it's easier to hit nan (or infinity) in FP16 precision, and your training might more easily diverge.\n",
    "\n",
    "### The solution: mixed precision training\n",
    "\n",
    "To address those three problems, we don't fully train in FP16 precision. As the name mixed training implies, some of the operations will be done in FP16, others in FP32. This is mainly to take care of the first problem listed above. For the next two there are additional tricks.\n",
    "\n",
    "The main idea is that we want to do the forward pass and the gradient computation in half precision (to go fast) but the update in single precision (to be more precise). It's okay if w and grad are both half floats, but when we do the operation w = w - lr * grad, we need to compute it in FP32. That way our 1 + 0.0001 is going to be 1.0001. \n",
    "\n",
    "This is why we keep a copy of the weights in FP32 (called master model). Then, our training loop will look like:\n",
    "1. compute the output with the FP16 model, then the loss\n",
    "2. back-propagate the gradients in half-precision.\n",
    "3. copy the gradients in FP32 precision\n",
    "4. do the update on the master model (in FP32 precision)\n",
    "5. copy the master model in the FP16 model.\n",
    "\n",
    "Note that we lose precision during step 5, and that the 1.0001 in one of the weights will go back to 1. But if the next update corresponds to add 0.0001 again, since the optimizer step is done on the master model, the 1.0001 will become 1.0002 and if we eventually go like this up to 1.0005, the FP16 model will be able to tell the difference.\n",
    "\n",
    "That takes care of problem 1. For the second problem, we use something called gradient scaling: to avoid the gradients getting zeroed by the FP16 precision, we multiply the loss by a scale factor (scale=512 for instance). That way we can push the gradients to the right in the next figure, and have them not become zero.\n",
    "\n",
    "![half float representation](images/half_representation.png)\n",
    "\n",
    "Of course we don't want those 512-scaled gradients to be in the weight update, so after converting them into FP32, we can divide them by this scale factor (once they have no risks of becoming 0). This changes the loop to:\n",
    "1. compute the output with the FP16 model, then the loss.\n",
    "2. multiply the loss by scale then back-propagate the gradients in half-precision.\n",
    "3. copy the gradients in FP32 precision then divide them by scale.\n",
    "4. do the update on the master model (in FP32 precision).\n",
    "5. copy the master model in the FP16 model.\n",
    "\n",
    "For the last problem, the tricks offered by NVIDIA are to leave the batchnorm layers in single precision (they don't have many weights so it's not a big memory challenge) and compute the loss in single precision (which means converting the last output of the model in single precision before passing it to the loss).\n",
    "\n",
    "![Mixed precision training](images/Mixed_precision.jpeg)\n",
    "\n",
    "Implementing all of this in the new callback system is surprisingly easy, let's dig into this!"
   ]
  },
  {
   "cell_type": "markdown",
   "metadata": {
    "colab_type": "text",
    "id": "83vV2xSijlfK"
   },
   "source": [
    "## Util functions"
   ]
  },
  {
   "cell_type": "markdown",
   "metadata": {
    "colab_type": "text",
    "id": "GGpstCS7jlfL"
   },
   "source": [
    "Before going in the main `Callback` we will need some helper functions. We will refactor using the [APEX library](https://github.com/NVIDIA/apex) util functions. The python-only build is enough for what we will use here if you don't manage to do the CUDA/C++ installation."
   ]
  },
  {
   "cell_type": "code",
   "execution_count": 5,
   "metadata": {
    "colab": {},
    "colab_type": "code",
    "id": "wZImK2IPjlfN"
   },
   "outputs": [],
   "source": [
    "# export \n",
    "import apex.fp16_utils as fp16"
   ]
  },
  {
   "cell_type": "markdown",
   "metadata": {
    "colab_type": "text",
    "id": "PMTJ9-9rjlfT"
   },
   "source": [
    "### Converting the model to FP16"
   ]
  },
  {
   "cell_type": "markdown",
   "metadata": {
    "colab_type": "text",
    "id": "7q-9rY5LmRYf"
   },
   "source": [
    "We will need a function to convert all the layers of the model to FP16 precision except the BN-like layers(since those need to be done in FP32 precision to be stable). We do this in two steps: first we convert the model to FP16, then we loop over all the layers and put them back to FP32 if they are a BN layer."
   ]
  },
  {
   "cell_type": "code",
   "execution_count": 7,
   "metadata": {
    "colab": {},
    "colab_type": "code",
    "id": "2QlosWEDu-G-"
   },
   "outputs": [],
   "source": [
    "bn_types = (nn.BatchNorm1d, nn.BatchNorm2d, nn.BatchNorm3d)"
   ]
  },
  {
   "cell_type": "code",
   "execution_count": 8,
   "metadata": {
    "colab": {},
    "colab_type": "code",
    "id": "0ar00dPcmEUp"
   },
   "outputs": [],
   "source": [
    "def bn_to_float(model):\n",
    "  if isinstance(model, bn_types): model.float()\n",
    "  for child in model.children(): bn_to_float(child)\n",
    "  return model"
   ]
  },
  {
   "cell_type": "code",
   "execution_count": 9,
   "metadata": {
    "colab": {},
    "colab_type": "code",
    "id": "xF-O6DWLmEbg"
   },
   "outputs": [],
   "source": [
    "def model_to_half(model):\n",
    "  model = model.half()\n",
    "  return bn_to_float(model)"
   ]
  },
  {
   "cell_type": "markdown",
   "metadata": {
    "colab_type": "text",
    "id": "RfEgU4wtm1BT"
   },
   "source": [
    "Let's test this"
   ]
  },
  {
   "cell_type": "code",
   "execution_count": 10,
   "metadata": {
    "colab": {
     "base_uri": "https://localhost:8080/",
     "height": 124
    },
    "colab_type": "code",
    "id": "Jc6alqc5mEhJ",
    "outputId": "ad71d1eb-5219-4211-845d-7551424c4045"
   },
   "outputs": [
    {
     "data": {
      "text/plain": [
       "Sequential(\n",
       "  (0): Linear(in_features=10, out_features=30, bias=True)\n",
       "  (1): BatchNorm1d(30, eps=1e-05, momentum=0.1, affine=True, track_running_stats=True)\n",
       "  (2): Linear(in_features=30, out_features=2, bias=True)\n",
       ")"
      ]
     },
     "execution_count": 10,
     "metadata": {},
     "output_type": "execute_result"
    }
   ],
   "source": [
    "model = nn.Sequential(nn.Linear(10, 30), nn.BatchNorm1d(30), nn.Linear(30,2,))\n",
    "model_to_half(model)"
   ]
  },
  {
   "cell_type": "code",
   "execution_count": 11,
   "metadata": {
    "colab": {},
    "colab_type": "code",
    "id": "FX3G_7ormEjE"
   },
   "outputs": [],
   "source": [
    "def check_weights(model):\n",
    "  for i, t in enumerate([torch.float16, torch.float32, torch.float16]):\n",
    "    # print(i, t)\n",
    "    assert model[i].weight.dtype == t\n",
    "    assert model[i].bias.dtype   == t"
   ]
  },
  {
   "cell_type": "code",
   "execution_count": 12,
   "metadata": {
    "colab": {},
    "colab_type": "code",
    "id": "78ukznoxmEl6"
   },
   "outputs": [],
   "source": [
    "check_weights(model)"
   ]
  },
  {
   "cell_type": "markdown",
   "metadata": {
    "colab_type": "text",
    "id": "bR2rZ4dLng0U"
   },
   "source": [
    "In Apex, the function that does this for us is `convert_network`. We can use it to put the model in FP16 or back to FP32. "
   ]
  },
  {
   "cell_type": "code",
   "execution_count": 13,
   "metadata": {
    "colab": {},
    "colab_type": "code",
    "id": "uQhjM5bXmEoO"
   },
   "outputs": [],
   "source": [
    "model = nn.Sequential(nn.Linear(10,30), nn.BatchNorm1d(30), nn.Linear(30,2)).cuda()\n",
    "model = fp16.convert_network(model, torch.float16)\n",
    "check_weights(model)"
   ]
  },
  {
   "cell_type": "markdown",
   "metadata": {
    "colab_type": "text",
    "id": "Ow8O5wq1pAhh"
   },
   "source": [
    "### Creating the master copy of the parameters"
   ]
  },
  {
   "cell_type": "markdown",
   "metadata": {
    "colab_type": "text",
    "id": "xqnk1tscpG4k"
   },
   "source": [
    "From our model parameters(mostly in FP16), we'll want to create a copy in FP32(master parameters) that we will use for the step in the optimizer. Optionally, we concatenate all the parameters to do one flat big tensor, which can make that step a little bit faster."
   ]
  },
  {
   "cell_type": "code",
   "execution_count": 14,
   "metadata": {
    "colab": {},
    "colab_type": "code",
    "id": "r8X_bed7mEfP"
   },
   "outputs": [],
   "source": [
    "from torch.nn.utils import parameters_to_vector"
   ]
  },
  {
   "cell_type": "code",
   "execution_count": 15,
   "metadata": {
    "colab": {},
    "colab_type": "code",
    "id": "blXtpJvdplse"
   },
   "outputs": [],
   "source": [
    "def get_master(model, flat_master=False):\n",
    "  model_params = [param for param in model.parameters() if param.requires_grad]\n",
    "  if flat_master:\n",
    "    master_param = parameters_to_vector([param.data.float() for param in model_params])\n",
    "    master_param = torch.nn.Parameter(master_param, requires_grad=True)\n",
    "    if master_param.grad is None: master_param.grad = master_param.new(*master_param.size())\n",
    "    return model_params, [master_param]\n",
    "\n",
    "  else:\n",
    "    master_params = [param.clone().float().detach() for param in model_params]\n",
    "    for param in master_params: param.requires_grad_(True)\n",
    "    return model_params, master_params\n",
    "\n",
    "  "
   ]
  },
  {
   "cell_type": "markdown",
   "metadata": {
    "colab_type": "text",
    "id": "noFB6ARvrbJN"
   },
   "source": [
    "The util function in Apex that does this is `prep_param_lists`."
   ]
  },
  {
   "cell_type": "code",
   "execution_count": 16,
   "metadata": {
    "colab": {},
    "colab_type": "code",
    "id": "yglAjz-qplvH"
   },
   "outputs": [],
   "source": [
    "model_p, master_p = get_master(model)\n",
    "model_p1, master_p1 = fp16.prep_param_lists(model)"
   ]
  },
  {
   "cell_type": "code",
   "execution_count": 17,
   "metadata": {
    "colab": {},
    "colab_type": "code",
    "id": "-sDKeh8nplxX"
   },
   "outputs": [],
   "source": [
    "def same_lists(ps1, ps2):\n",
    "  assert len(ps1) == len(ps2)\n",
    "  for (p1, p2) in zip(ps1, ps2):\n",
    "    assert p1.requires_grad == p2.requires_grad\n",
    "    assert torch.allclose(p1.data.float(), p2.data.float())"
   ]
  },
  {
   "cell_type": "code",
   "execution_count": 18,
   "metadata": {
    "colab": {},
    "colab_type": "code",
    "id": "LluAkTflpl0h"
   },
   "outputs": [],
   "source": [
    "same_lists(model_p, model_p1)\n",
    "same_lists(model_p, master_p)\n",
    "same_lists(master_p, master_p1)\n",
    "same_lists(master_p1, model_p1)"
   ]
  },
  {
   "cell_type": "markdown",
   "metadata": {
    "colab_type": "text",
    "id": "qBgTriHPsLeV"
   },
   "source": [
    "We can't use flat_master when there is a mix of FP16 and FP32 parameters(like batchnorm here)."
   ]
  },
  {
   "cell_type": "code",
   "execution_count": 19,
   "metadata": {
    "colab": {},
    "colab_type": "code",
    "id": "OcPDnwgmsKbr"
   },
   "outputs": [],
   "source": [
    "model1 = nn.Sequential(nn.Linear(10,30), nn.Linear(30,2)).cuda()\n",
    "model1 = fp16.convert_network(model1, torch.float16)"
   ]
  },
  {
   "cell_type": "code",
   "execution_count": 20,
   "metadata": {
    "colab": {},
    "colab_type": "code",
    "id": "j1bLECAasg0q"
   },
   "outputs": [],
   "source": [
    "model_p, master_p = get_master(model1, flat_master=True)\n",
    "model_p1, master_p1 = fp16.prep_param_lists(model1, flat_master=True)"
   ]
  },
  {
   "cell_type": "code",
   "execution_count": 21,
   "metadata": {
    "colab": {},
    "colab_type": "code",
    "id": "UZbbOoeXstRC"
   },
   "outputs": [],
   "source": [
    "same_lists(model_p, model_p1)\n",
    "same_lists(master_p, master_p1)"
   ]
  },
  {
   "cell_type": "code",
   "execution_count": 22,
   "metadata": {
    "colab": {},
    "colab_type": "code",
    "id": "lRowXp_-tA25"
   },
   "outputs": [],
   "source": [
    "assert len(master_p[0]) == 10*30 + 30 + 30*2 + 2\n",
    "assert len(master_p1[0]) == 10*30 + 30 + 30*2 + 2"
   ]
  },
  {
   "cell_type": "markdown",
   "metadata": {
    "colab_type": "text",
    "id": "t0cYURREtgHY"
   },
   "source": [
    "The thing is that we don't always want all the parameters of our model in the same parameter group because we might: \n",
    "- want to do transfr learning and freeze some layers\n",
    "- apply discriminative LRs\n",
    "- don't apply weight decay to some layers(like BN) or the bias terms.\n",
    "  \n",
    "So we actually need a function that splits the parameters of an optimizer(and not a model) according to the right parameter groups."
   ]
  },
  {
   "cell_type": "code",
   "execution_count": 23,
   "metadata": {
    "colab": {},
    "colab_type": "code",
    "id": "oJCf3OwUteFb"
   },
   "outputs": [],
   "source": [
    "def get_master(opt, flat_master=False):\n",
    "  model_params = [[param for param in pg if param.requires_grad] for pg in opt.param_groups]\n",
    "  if flat_master:\n",
    "    master_params = []\n",
    "    for pg in model_params:\n",
    "      mp = parameters_to_vector([param.data.float() for param in pg])\n",
    "      mp = torch.nn.Parameter(mp, requires_grad=True)\n",
    "      if mp.grad is None: mp.grad = mp.new(*mp.size())\n",
    "      master_params.append(mp)\n",
    "\n",
    "  else:\n",
    "    master_params = [[param.clone().float().detach() for param in pg] for pg in model_params]\n",
    "    for pg in master_params:\n",
    "      for param in pg: param.requires_grad_(True)\n",
    "  return model_params, master_params    "
   ]
  },
  {
   "cell_type": "markdown",
   "metadata": {
    "colab_type": "text",
    "id": "rSFbtp2_fKoo"
   },
   "source": [
    "### Copy the gradients from model params to master params"
   ]
  },
  {
   "cell_type": "markdown",
   "metadata": {
    "colab_type": "text",
    "id": "4xK94qR2fTLb"
   },
   "source": [
    "After the backward pass, all gradients must be copied to the master params before the optimizer step can be done in FP32. We need a function for that (with a bit of adjustment if we have flat master)."
   ]
  },
  {
   "cell_type": "code",
   "execution_count": 24,
   "metadata": {
    "colab": {},
    "colab_type": "code",
    "id": "4TawRBamte5Z"
   },
   "outputs": [],
   "source": [
    "def to_master_grads(model_params, master_params, flat_master:bool=False)-> None:\n",
    "  if flat_master:\n",
    "    if master_params[0].grad is None: master_params[0].grad = master_params[0].data.new(*master_params[0].data.size())\n",
    "    master_params[0].grad.data.copy_(parameters_to_vector([p.grad.data.float() for p in model_params]))\n",
    "\n",
    "  else:\n",
    "    for model, master in zip(model_params, master_params):\n",
    "      if model.grad is not None:\n",
    "        if master.grad is None: master.grad = master.data.new(*master.data.size())\n",
    "        master.grad.data.copy_(model.grad.data)\n",
    "      else: master.grad = None"
   ]
  },
  {
   "cell_type": "markdown",
   "metadata": {
    "colab_type": "text",
    "id": "VM3BTHcamjHJ"
   },
   "source": [
    "The corresponding function in the Apex Utils is `model_grads_to_master_grads`."
   ]
  },
  {
   "cell_type": "code",
   "execution_count": 25,
   "metadata": {
    "colab": {},
    "colab_type": "code",
    "id": "xir_lHW1te8X"
   },
   "outputs": [],
   "source": [
    "x = torch.randn(20,10).half().cuda()\n",
    "z = model(x)\n",
    "loss = F.cross_entropy(z, torch.randint(0, 2, (20,)).cuda())\n",
    "loss.backward()"
   ]
  },
  {
   "cell_type": "code",
   "execution_count": 26,
   "metadata": {
    "colab": {},
    "colab_type": "code",
    "id": "FRUXtVEhte-C"
   },
   "outputs": [],
   "source": [
    "to_master_grads(model_p, master_p)"
   ]
  },
  {
   "cell_type": "code",
   "execution_count": 27,
   "metadata": {
    "colab": {},
    "colab_type": "code",
    "id": "Ck9pj9F7tfBT"
   },
   "outputs": [],
   "source": [
    "def check_grads(m1, m2):\n",
    "  for p1, p2 in zip(m1, m2):\n",
    "    if p1.grad is None: assert p2.grad is None\n",
    "    else: assert torch.allclose(p1.grad.data, p2.grad.data)"
   ]
  },
  {
   "cell_type": "code",
   "execution_count": 28,
   "metadata": {
    "colab": {},
    "colab_type": "code",
    "id": "HFwX1b5WtfDU"
   },
   "outputs": [],
   "source": [
    "check_grads(model_p, master_p)"
   ]
  },
  {
   "cell_type": "code",
   "execution_count": 29,
   "metadata": {
    "colab": {},
    "colab_type": "code",
    "id": "rQyz_uLItded"
   },
   "outputs": [],
   "source": [
    "fp16.model_grads_to_master_grads(model_p, master_p)"
   ]
  },
  {
   "cell_type": "code",
   "execution_count": 30,
   "metadata": {
    "colab": {},
    "colab_type": "code",
    "id": "AX4XGEeunlqo"
   },
   "outputs": [],
   "source": [
    "check_grads(model_p, master_p)"
   ]
  },
  {
   "cell_type": "markdown",
   "metadata": {
    "colab_type": "text",
    "id": "ftY-IbSeno4u"
   },
   "source": [
    "### Copy the master params to model params"
   ]
  },
  {
   "cell_type": "code",
   "execution_count": 31,
   "metadata": {
    "colab": {},
    "colab_type": "code",
    "id": "wwLWpHJrnoMh"
   },
   "outputs": [],
   "source": [
    "from torch._utils import _unflatten_dense_tensors\n",
    "\n",
    "def to_model_params(model_params, master_params, flat_master:bool=False)->None:\n",
    "  if flat_master:\n",
    "    for model, master in zip(model_params, _unflatten_dense_tensors(master_params[0].data, model_params)):\n",
    "      model.data.copy_(master)\n",
    "\n",
    "  else:\n",
    "    for model, master in zip(model_params, master_params): mol.data.copy_(master.data)"
   ]
  },
  {
   "cell_type": "markdown",
   "metadata": {
    "colab_type": "text",
    "id": "aT0NV_itr4nr"
   },
   "source": [
    "The corresponding function in APex is `master_params_to_model_params`"
   ]
  },
  {
   "cell_type": "markdown",
   "metadata": {
    "colab_type": "text",
    "id": "3kmpCF6fr-bc"
   },
   "source": [
    "### But we need to handle param groups"
   ]
  },
  {
   "cell_type": "markdown",
   "metadata": {
    "colab_type": "text",
    "id": "VYDghZgesFfF"
   },
   "source": [
    "The thing is that we don't always want all the parameters of our model in the same parameter group, because we might:\n",
    "- want to do transfer learning and freeze some layers\n",
    "- apply discriminative learning rates\n",
    "- don't apply weight decay to some layers (like BatchNorm) or the bias terms\n",
    "\n",
    "So we actually need a function that splits the parameters of an optimizer (and not a model) according to the right parameter groups."
   ]
  },
  {
   "cell_type": "code",
   "execution_count": 32,
   "metadata": {
    "colab": {},
    "colab_type": "code",
    "id": "uPwFsGdlrxsm"
   },
   "outputs": [],
   "source": [
    "#export\n",
    "def get_master(opt, flat_master = False):\n",
    "  model_pgs = [[param for param in pg if param.requires_grad] for pg in opt.param_groups]\n",
    "  if flat_master:\n",
    "    master_pgs = []\n",
    "    for pg in model_pgs:\n",
    "      mp = parameters_to_vector([param.data.float() for param in pg])\n",
    "      mp = torch.nn.Parameter(mp, requires_grad=True)\n",
    "      if mp.grad is None: mp.grad = mp.new(*mp.size())\n",
    "      master_pgs.append([mp])\n",
    "\n",
    "  else:\n",
    "    master_pgs = [[param.clone().float().detach() for param in pg] for pg in model_pgs]\n",
    "    for pg in master_pgs:\n",
    "      for param in pg: param.requires_grad_(True)\n",
    "  return model_pgs, master_pgs"
   ]
  },
  {
   "cell_type": "code",
   "execution_count": 33,
   "metadata": {
    "colab": {},
    "colab_type": "code",
    "id": "MbzudImTtYEs"
   },
   "outputs": [],
   "source": [
    "#export\n",
    "def to_master_grads(model_pgs, master_pgs, flat_master:bool=False)->None:\n",
    "  for (model_params, master_params) in zip(model_pgs, master_pgs):\n",
    "    fp16.model_grads_to_master_grads(model_params, master_params, flat_master=flat_master)"
   ]
  },
  {
   "cell_type": "code",
   "execution_count": 34,
   "metadata": {
    "colab": {},
    "colab_type": "code",
    "id": "QgxA-K2IuB4v"
   },
   "outputs": [],
   "source": [
    "#export\n",
    "def to_model_params(model_pgs, master_pgs, flat_master:bool=False):\n",
    "  for (model_params, master_params) in zip(model_pgs, master_pgs):\n",
    "    fp16.master_params_to_model_params(model_params, master_params, flat_master=flat_master)"
   ]
  },
  {
   "cell_type": "markdown",
   "metadata": {
    "colab_type": "text",
    "id": "rks5tqU-uXZA"
   },
   "source": [
    "## The main callback"
   ]
  },
  {
   "cell_type": "code",
   "execution_count": 35,
   "metadata": {
    "colab": {},
    "colab_type": "code",
    "id": "aGtXWkU8uWLg"
   },
   "outputs": [],
   "source": [
    "class MixedPrecision(Callback):\n",
    "  _order= 99\n",
    "  def __init__(self, loss_scale=512, flat_master=False):\n",
    "    assert torch.backends.cudnn.enabled, \"Mixed precision training requires cudnn.\"\n",
    "    self.loss_scale, self.flat_master = loss_scale, flat_master\n",
    "\n",
    "  def begin_fit(self):\n",
    "    self.run.model = fp16.convert_network(self.model, dtype=torch.float16)\n",
    "    self.model_pgs, self.master_pgs = get_master(self.opt, self.flat_master)\n",
    "    # Changes the optimizer so that the optimization step is done in FP32.\n",
    "    self.run.opt.param_groups = self.master_pgs # Put those param groups inside our runner. \n",
    "\n",
    "  def after_fit(self): self.model.float()\n",
    "\n",
    "  def begin_batch(self): self.run.xb = self.run.xb.half() # Put the inputs to half precision\n",
    "  def after_pred(self): self.run.pred = self.run.pred.float() # Compute the loss in FP32\n",
    "  def after_loss(self): self.run.loss *= self.loss_scale # Loss scaling to avoid gradient underflow\n",
    "\n",
    "  def after_backward(self): \n",
    "    # Copy the gradients to master and unscale\n",
    "    to_master_grads(self.model_pgs, self.master_pgs, self.flat_master)\n",
    "    for master_params in self.master_pgs:\n",
    "      for param in master_params:\n",
    "        if param.grad is not None: param.grad.div_(self.loss_scale)\n",
    "\n",
    "  def after_step(self):\n",
    "    # Zero the gradients of the model since the optimizer is disconnected.\n",
    "    self.model.zero_grad()\n",
    "    # Update the params from master to model.\n",
    "    to_model_params(self.model_pgs, self.master_pgs, self.flat_master)\n"
   ]
  },
  {
   "cell_type": "markdown",
   "metadata": {
    "colab_type": "text",
    "id": "EnkR3vt08yJE"
   },
   "source": [
    "Turns out this loss_scale of 512 is quite important. After the loss is calculated we multiply it by loss_scale which is genrally around 512. The reason we do that is that losses tend to be very small in a region where half precision points tend to be not very accurate so we just multiply te loss by 512 so as to put it in a region where it is accurate. And then in the backward step later on, we just divide by loss_scale. This is a little tweak that makes the difference between things working and not working"
   ]
  },
  {
   "cell_type": "markdown",
   "metadata": {
    "colab_type": "text",
    "id": "EjZc-Wj37Zar"
   },
   "source": [
    "Now let's test this on Imagenette."
   ]
  },
  {
   "cell_type": "code",
   "execution_count": 36,
   "metadata": {
    "colab": {
     "base_uri": "https://localhost:8080/",
     "height": 35
    },
    "colab_type": "code",
    "id": "hveL1SDFjliH",
    "outputId": "88ed55dd-e062-4a92-abef-4ddd93e4b24a"
   },
   "outputs": [],
   "source": [
    "path = datasets.untar_data(datasets.URLs.IMAGENETTE_160)"
   ]
  },
  {
   "cell_type": "code",
   "execution_count": 37,
   "metadata": {
    "colab": {},
    "colab_type": "code",
    "id": "Z23pEfxIjliM"
   },
   "outputs": [],
   "source": [
    "tfms = [make_rgb, ResizeFixed(128), to_byte_tensor, to_float_tensor]\n",
    "bs = 64\n",
    "\n",
    "il = ImageList.from_files(path, tfms=tfms)\n",
    "sd = SplitData.split_by_func(il, partial(grandparent_splitter, valid_name='val'))\n",
    "ll = label_by_func(sd, parent_labeler, proc_y=CategoryProcessor())\n",
    "data = ll.to_databunch(bs, c_in=3, c_out=10, num_workers=4)"
   ]
  },
  {
   "cell_type": "code",
   "execution_count": 38,
   "metadata": {
    "colab": {},
    "colab_type": "code",
    "id": "8CCw0iapjliR"
   },
   "outputs": [],
   "source": [
    "nfs = [32,64,128,256,512]"
   ]
  },
  {
   "cell_type": "code",
   "execution_count": 39,
   "metadata": {
    "colab": {},
    "colab_type": "code",
    "id": "2QCG7o4sjliV"
   },
   "outputs": [],
   "source": [
    "def get_learner(nfs, data, lr, layer, loss_func=F.cross_entropy,\n",
    "                cb_funcs=None, opt_func=adam_opt(), **kwargs):\n",
    "    model = get_cnn_model(data, nfs, layer, **kwargs)\n",
    "    init_cnn(model)\n",
    "    return Learner(model, data, loss_func, lr=lr, cb_funcs=cb_funcs, opt_func=opt_func)"
   ]
  },
  {
   "cell_type": "markdown",
   "metadata": {
    "colab_type": "text",
    "id": "uCITgONQjliZ"
   },
   "source": [
    "Training without mixed precision"
   ]
  },
  {
   "cell_type": "code",
   "execution_count": 46,
   "metadata": {
    "colab": {},
    "colab_type": "code",
    "id": "ZCh0_FXTjlia"
   },
   "outputs": [],
   "source": [
    "cbfs = [partial(AvgStatsCallback,accuracy),\n",
    "        ProgressCallback,\n",
    "        CudaCallback,\n",
    "        partial(BatchTransformXCallback, norm_imagenette)]"
   ]
  },
  {
   "cell_type": "code",
   "execution_count": 47,
   "metadata": {
    "colab": {},
    "colab_type": "code",
    "id": "YWQeDPcqjlif"
   },
   "outputs": [],
   "source": [
    "learn = get_learner(nfs, data, 1e-2, conv_layer, cb_funcs=cbfs)"
   ]
  },
  {
   "cell_type": "code",
   "execution_count": 48,
   "metadata": {
    "colab": {
     "base_uri": "https://localhost:8080/",
     "height": 141
    },
    "colab_type": "code",
    "id": "PxOKWluKjlij",
    "outputId": "a3fd0ffb-92e9-40bc-e0b5-651035d01b42"
   },
   "outputs": [
    {
     "data": {
      "text/html": [
       "\n",
       "    <div>\n",
       "        <style>\n",
       "            /* Turns off some styling */\n",
       "            progress {\n",
       "                /* gets rid of default border in Firefox and Opera. */\n",
       "                border: none;\n",
       "                /* Needs to be in here for Safari polyfill so background images work as expected. */\n",
       "                background-size: auto;\n",
       "            }\n",
       "            .progress-bar-interrupted, .progress-bar-interrupted::-webkit-progress-bar {\n",
       "                background: #F44336;\n",
       "            }\n",
       "        </style>\n",
       "      <progress value='0' class='' max='1', style='width:300px; height:20px; vertical-align: middle;'></progress>\n",
       "      \n",
       "    </div>\n",
       "    \n"
      ],
      "text/plain": [
       "<IPython.core.display.HTML object>"
      ]
     },
     "metadata": {},
     "output_type": "display_data"
    },
    {
     "data": {
      "text/html": [
       "<table border=\"1\" class=\"dataframe\">\n",
       "  <thead>\n",
       "    <tr style=\"text-align: left;\">\n",
       "      <th>epoch</th>\n",
       "      <th>train_loss</th>\n",
       "      <th>train_accuracy</th>\n",
       "      <th>valid_loss</th>\n",
       "      <th>valid_accuracy</th>\n",
       "      <th>time</th>\n",
       "    </tr>\n",
       "  </thead>\n",
       "  <tbody>\n",
       "    <tr>\n",
       "      <td>0</td>\n",
       "      <td>1.902093</td>\n",
       "      <td>0.381244</td>\n",
       "      <td>1.681627</td>\n",
       "      <td>0.456306</td>\n",
       "      <td>00:05</td>\n",
       "    </tr>\n",
       "  </tbody>\n",
       "</table>"
      ],
      "text/plain": [
       "<IPython.core.display.HTML object>"
      ]
     },
     "metadata": {},
     "output_type": "display_data"
    }
   ],
   "source": [
    "learn.fit(1)"
   ]
  },
  {
   "cell_type": "markdown",
   "metadata": {
    "colab_type": "text",
    "id": "untXbWD8jlio"
   },
   "source": [
    "Training with mixed precision"
   ]
  },
  {
   "cell_type": "code",
   "execution_count": 49,
   "metadata": {
    "colab": {},
    "colab_type": "code",
    "id": "O-_MJp85jliq"
   },
   "outputs": [],
   "source": [
    "cbfs = [partial(AvgStatsCallback,accuracy),\n",
    "        CudaCallback,\n",
    "        ProgressCallback,\n",
    "        partial(BatchTransformXCallback, norm_imagenette),\n",
    "        MixedPrecision]"
   ]
  },
  {
   "cell_type": "code",
   "execution_count": 50,
   "metadata": {
    "colab": {},
    "colab_type": "code",
    "id": "fd7wrDD2jliv"
   },
   "outputs": [],
   "source": [
    "learn = get_learner(nfs, data, 1e-2, conv_layer, cb_funcs=cbfs)"
   ]
  },
  {
   "cell_type": "code",
   "execution_count": 51,
   "metadata": {
    "colab": {
     "base_uri": "https://localhost:8080/",
     "height": 52
    },
    "colab_type": "code",
    "id": "2j7EYxX2jli1",
    "outputId": "9e19ab5f-15dc-4b5a-c27d-d4e88903a255"
   },
   "outputs": [
    {
     "data": {
      "text/html": [
       "\n",
       "    <div>\n",
       "        <style>\n",
       "            /* Turns off some styling */\n",
       "            progress {\n",
       "                /* gets rid of default border in Firefox and Opera. */\n",
       "                border: none;\n",
       "                /* Needs to be in here for Safari polyfill so background images work as expected. */\n",
       "                background-size: auto;\n",
       "            }\n",
       "            .progress-bar-interrupted, .progress-bar-interrupted::-webkit-progress-bar {\n",
       "                background: #F44336;\n",
       "            }\n",
       "        </style>\n",
       "      <progress value='0' class='' max='1', style='width:300px; height:20px; vertical-align: middle;'></progress>\n",
       "      \n",
       "    </div>\n",
       "    \n"
      ],
      "text/plain": [
       "<IPython.core.display.HTML object>"
      ]
     },
     "metadata": {},
     "output_type": "display_data"
    },
    {
     "data": {
      "text/html": [
       "<table border=\"1\" class=\"dataframe\">\n",
       "  <thead>\n",
       "    <tr style=\"text-align: left;\">\n",
       "      <th>epoch</th>\n",
       "      <th>train_loss</th>\n",
       "      <th>train_accuracy</th>\n",
       "      <th>valid_loss</th>\n",
       "      <th>valid_accuracy</th>\n",
       "      <th>time</th>\n",
       "    </tr>\n",
       "  </thead>\n",
       "  <tbody>\n",
       "    <tr>\n",
       "      <td>0</td>\n",
       "      <td>2.018967</td>\n",
       "      <td>0.352096</td>\n",
       "      <td>1.801301</td>\n",
       "      <td>0.407389</td>\n",
       "      <td>00:05</td>\n",
       "    </tr>\n",
       "  </tbody>\n",
       "</table>"
      ],
      "text/plain": [
       "<IPython.core.display.HTML object>"
      ]
     },
     "metadata": {},
     "output_type": "display_data"
    }
   ],
   "source": [
    "learn.fit(1)"
   ]
  },
  {
   "cell_type": "markdown",
   "metadata": {
    "colab_type": "text",
    "id": "M5LKUrmo-BuS"
   },
   "source": [
    "Using MixedPrecision you often get a 2x 3x speed in traing of your models. Ceratinly for vision models but also for transformers and other places.  \n",
    "  \n",
    "  Jeremy also exclaims that sometimes training with half precision leads to better results than full precision and guesses that it maybe because of some randomness or that it helps the model generalize a bit better. Although, they both often tend to give the same results."
   ]
  },
  {
   "cell_type": "code",
   "execution_count": 52,
   "metadata": {
    "colab": {},
    "colab_type": "code",
    "id": "rEIYg0oujli5"
   },
   "outputs": [],
   "source": [
    "test_eq(next(learn.model.parameters()).type(), 'torch.cuda.FloatTensor')"
   ]
  },
  {
   "cell_type": "markdown",
   "metadata": {
    "colab_type": "text",
    "id": "G2-LA9V2-Ued"
   },
   "source": [
    "The question that comes to mind now is that whether 512 is the right number and it turns out that getting that right is important for things to work. So we implement Dynamic loss scaling that tries to dynamically figure out the optimum value of loss_scale."
   ]
  },
  {
   "cell_type": "markdown",
   "metadata": {
    "colab_type": "text",
    "id": "fK2wf1lyjli-"
   },
   "source": [
    "## Dynamic loss scaling"
   ]
  },
  {
   "cell_type": "markdown",
   "metadata": {
    "colab_type": "text",
    "id": "VpzNGQgy-sk_"
   },
   "source": [
    "The only annoying thing with the previous implementation of mixed precision training is that it introduces one new hyper-parameter to tune, the value of loss scaling. Fortunately there is a way around this. We want the loss scaling to be as high as possible so that our gradients can use the whole range of representation, so let's first try a really high value. In all likelihood, this will cause our gradients or our loss to overflow, and we will try again with half that big value, and again, until we get to the largest loss scale possible that doesn't make our graidents overflow.  \n",
    "\n",
    "This value will be perfectly fitted to our model and can continue to be dynamically  adjusted as the training goes, if it's still too high, by just halving it each time we overflow. After a while though, training will converge and the gradients will start to get smaller, so we also need a mechanism to get this dynamic loss scale larger if it's safe to do so. The strategy used in the Apex library is to multiply the loss scale by 2 each time we had a given number of iterations without overflowing.  \n",
    "  To check if the gradients have overflowed, we check their sum(computed in FP32). If one of the terms is NaN, then the sum will be NaN. Interesetingly, on the GPU, it's faster than checking `torch.isnan`:"
   ]
  },
  {
   "cell_type": "code",
   "execution_count": 53,
   "metadata": {
    "colab": {},
    "colab_type": "code",
    "id": "Oyb3CgNo7pF-"
   },
   "outputs": [],
   "source": [
    "#export\n",
    "def test_overflow(x):\n",
    "  s = float(x.float().sum())\n",
    "  return (s==float('inf') or s == float('-inf') or s != s)"
   ]
  },
  {
   "cell_type": "code",
   "execution_count": 54,
   "metadata": {
    "colab": {},
    "colab_type": "code",
    "id": "_fPWksQBBjC_"
   },
   "outputs": [],
   "source": [
    "x = torch.randn(512, 1024).cuda()"
   ]
  },
  {
   "cell_type": "code",
   "execution_count": 55,
   "metadata": {
    "colab": {
     "base_uri": "https://localhost:8080/",
     "height": 35
    },
    "colab_type": "code",
    "id": "NukILXp3BmWn",
    "outputId": "f47ddabf-2774-4498-ffe4-446236ae47d5"
   },
   "outputs": [
    {
     "data": {
      "text/plain": [
       "False"
      ]
     },
     "execution_count": 55,
     "metadata": {},
     "output_type": "execute_result"
    }
   ],
   "source": [
    "test_overflow(x)"
   ]
  },
  {
   "cell_type": "code",
   "execution_count": 56,
   "metadata": {
    "colab": {
     "base_uri": "https://localhost:8080/",
     "height": 35
    },
    "colab_type": "code",
    "id": "Jlri3QAQBndr",
    "outputId": "8785da06-148e-4180-b0c3-416594ad997c"
   },
   "outputs": [
    {
     "data": {
      "text/plain": [
       "True"
      ]
     },
     "execution_count": 56,
     "metadata": {},
     "output_type": "execute_result"
    }
   ],
   "source": [
    "x[123,145] = float('inf')\n",
    "test_overflow(x)"
   ]
  },
  {
   "cell_type": "code",
   "execution_count": 57,
   "metadata": {
    "colab": {
     "base_uri": "https://localhost:8080/",
     "height": 35
    },
    "colab_type": "code",
    "id": "qCKsO2I6Br45",
    "outputId": "09f6d4b5-a1a9-4729-b117-1556a1021664"
   },
   "outputs": [
    {
     "name": "stdout",
     "output_type": "stream",
     "text": [
      "37.2 µs ± 100 ns per loop (mean ± std. dev. of 7 runs, 10000 loops each)\n"
     ]
    }
   ],
   "source": [
    "%timeit test_overflow(x)"
   ]
  },
  {
   "cell_type": "code",
   "execution_count": 58,
   "metadata": {
    "colab": {
     "base_uri": "https://localhost:8080/",
     "height": 72
    },
    "colab_type": "code",
    "id": "MDJy74SkJfxx",
    "outputId": "aebacc97-e309-4d7d-c5b8-e72dae14b222"
   },
   "outputs": [
    {
     "name": "stdout",
     "output_type": "stream",
     "text": [
      "60.4 µs ± 80.5 ns per loop (mean ± std. dev. of 7 runs, 10000 loops each)\n"
     ]
    }
   ],
   "source": [
    "%timeit torch.isnan(x).any().item()"
   ]
  },
  {
   "cell_type": "markdown",
   "metadata": {
    "colab_type": "text",
    "id": "kz6gagc4Joqr"
   },
   "source": [
    "So we cn use it in the following function that checks for gradients overflow:"
   ]
  },
  {
   "cell_type": "code",
   "execution_count": 59,
   "metadata": {
    "colab": {},
    "colab_type": "code",
    "id": "Jml4mj02JkNH"
   },
   "outputs": [],
   "source": [
    "#export\n",
    "def grad_overflow(param_groups):\n",
    "  for group in param_groups:\n",
    "    for p in group:\n",
    "      if p.grad is not None:\n",
    "        s = float(p.grad.data.float().sum())\n",
    "        if s == float('inf') or s == float('-inf') or s != s: return True\n",
    "  return False"
   ]
  },
  {
   "cell_type": "markdown",
   "metadata": {
    "colab_type": "text",
    "id": "IXAKF5RiKIvy"
   },
   "source": [
    "And now we can write a new version of `MixedPrecision` callback that handles dynamic loss scaling"
   ]
  },
  {
   "cell_type": "code",
   "execution_count": 60,
   "metadata": {
    "colab": {},
    "colab_type": "code",
    "id": "9FDEmPKVKHsT"
   },
   "outputs": [],
   "source": [
    "class MixedPrecision(Callback):\n",
    "  _order= 99\n",
    "  def __init__(self, loss_scale=512, flat_master=False, dynamic = True,\n",
    "               max_loss_scale = 2.**24, div_factor = 2., scale_wait = 500):\n",
    "    assert torch.backends.cudnn.enabled, \"Mixed precision training requires cudnn.\"\n",
    "    self.max_loss_scale, self.flat_master, self.dynamic = max_loss_scale, flat_master, dynamic\n",
    "    self.div_factor, self.scale_wait = div_factor, scale_wait\n",
    "    self.loss_scale = max_loss_scale if dynamic else loss_scale\n",
    "\n",
    "  def begin_fit(self):\n",
    "    self.run.model = fp16.convert_network(self.model, dtype=torch.float16)\n",
    "    self.model_pgs, self.master_pgs = get_master(self.opt, self.flat_master)\n",
    "    # Changes the optimizer so that the optimization step is done in FP32.\n",
    "    self.run.opt.param_groups = self.master_pgs # Put those param groups inside our runner. \n",
    "    if self.dynamic: self.count = 0\n",
    "\n",
    "  # def after_fit(self): self.model.float()\n",
    "\n",
    "  def begin_batch(self): self.run.xb = self.run.xb.half() # Put the inputs to half precision\n",
    "  def after_pred(self): self.run.pred = self.run.pred.float() # Compute the loss in FP32\n",
    "  def after_loss(self): \n",
    "    if self.in_train: self.run.loss *= self.loss_scale # Loss scaling to avoid gradient underflow\n",
    "\n",
    "  def after_backward(self): \n",
    "    # First, check for overflow\n",
    "    if self.dynamic and grad_overflow(self.model_pgs):\n",
    "      # Divide the loss scale by div_factor, zero the grad(after_step will be skipped).\n",
    "      self.loss_scale /= self.div_factor\n",
    "      self.model.zero_grad()\n",
    "      return True # skip step and zero_grad\n",
    "    # Copy the gradients to master and unscale\n",
    "    to_master_grads(self.model_pgs, self.master_pgs, self.flat_master)\n",
    "    for master_params in self.master_pgs:\n",
    "      for param in master_params:\n",
    "        if param.grad is not None: param.grad.div_(self.loss_scale)\n",
    "    # Check if its been long enough without overflow\n",
    "    if self.dynamic:\n",
    "      self.count += 1\n",
    "      if self.count == self.scale_wait:\n",
    "        self.count = 0\n",
    "        self.loss_scale += self.div_factor\n",
    "\n",
    "  def after_step(self):\n",
    "    # Zero the gradients of the model since the optimizer is disconnected.\n",
    "    self.model.zero_grad()\n",
    "    # Update the params from master to model.\n",
    "    to_model_params(self.model_pgs, self.master_pgs, self.flat_master)\n"
   ]
  },
  {
   "cell_type": "code",
   "execution_count": 62,
   "metadata": {
    "colab": {},
    "colab_type": "code",
    "id": "h2Px6B_Ujljd"
   },
   "outputs": [],
   "source": [
    "cbfs = [partial(AvgStatsCallback,accuracy),\n",
    "        CudaCallback,\n",
    "        ProgressCallback,\n",
    "        partial(BatchTransformXCallback, norm_imagenette),\n",
    "        MixedPrecision]"
   ]
  },
  {
   "cell_type": "code",
   "execution_count": 63,
   "metadata": {
    "colab": {},
    "colab_type": "code",
    "id": "OKtGyLSIjljj"
   },
   "outputs": [],
   "source": [
    "learn = get_learner(nfs, data, 1e-2, conv_layer, cb_funcs=cbfs)"
   ]
  },
  {
   "cell_type": "code",
   "execution_count": 64,
   "metadata": {
    "colab": {
     "base_uri": "https://localhost:8080/",
     "height": 52
    },
    "colab_type": "code",
    "id": "SUvRfYqmjljm",
    "outputId": "5304df16-89ca-4eee-fdd8-7facfe56998a"
   },
   "outputs": [
    {
     "data": {
      "text/html": [
       "\n",
       "    <div>\n",
       "        <style>\n",
       "            /* Turns off some styling */\n",
       "            progress {\n",
       "                /* gets rid of default border in Firefox and Opera. */\n",
       "                border: none;\n",
       "                /* Needs to be in here for Safari polyfill so background images work as expected. */\n",
       "                background-size: auto;\n",
       "            }\n",
       "            .progress-bar-interrupted, .progress-bar-interrupted::-webkit-progress-bar {\n",
       "                background: #F44336;\n",
       "            }\n",
       "        </style>\n",
       "      <progress value='0' class='' max='1', style='width:300px; height:20px; vertical-align: middle;'></progress>\n",
       "      \n",
       "    </div>\n",
       "    \n"
      ],
      "text/plain": [
       "<IPython.core.display.HTML object>"
      ]
     },
     "metadata": {},
     "output_type": "display_data"
    },
    {
     "data": {
      "text/html": [
       "<table border=\"1\" class=\"dataframe\">\n",
       "  <thead>\n",
       "    <tr style=\"text-align: left;\">\n",
       "      <th>epoch</th>\n",
       "      <th>train_loss</th>\n",
       "      <th>train_accuracy</th>\n",
       "      <th>valid_loss</th>\n",
       "      <th>valid_accuracy</th>\n",
       "      <th>time</th>\n",
       "    </tr>\n",
       "  </thead>\n",
       "  <tbody>\n",
       "    <tr>\n",
       "      <td>0</td>\n",
       "      <td>1.969534</td>\n",
       "      <td>0.359806</td>\n",
       "      <td>1.868624</td>\n",
       "      <td>0.434140</td>\n",
       "      <td>00:07</td>\n",
       "    </tr>\n",
       "  </tbody>\n",
       "</table>"
      ],
      "text/plain": [
       "<IPython.core.display.HTML object>"
      ]
     },
     "metadata": {},
     "output_type": "display_data"
    }
   ],
   "source": [
    "learn.fit(1)"
   ]
  },
  {
   "cell_type": "markdown",
   "metadata": {
    "colab_type": "text",
    "id": "R0sYATCsjljo"
   },
   "source": [
    "The loss scale used is way higher than our previous number:"
   ]
  },
  {
   "cell_type": "code",
   "execution_count": 65,
   "metadata": {
    "colab": {
     "base_uri": "https://localhost:8080/",
     "height": 35
    },
    "colab_type": "code",
    "id": "JgFECnNjMehJ",
    "outputId": "d7a39855-cef9-4dce-d30d-18f429e760b4"
   },
   "outputs": [
    {
     "data": {
      "text/plain": [
       "65536.0"
      ]
     },
     "execution_count": 65,
     "metadata": {},
     "output_type": "execute_result"
    }
   ],
   "source": [
    "learn.cbs[-1].loss_scale"
   ]
  },
  {
   "cell_type": "markdown",
   "metadata": {
    "colab_type": "text",
    "id": "AnN32atdMnbA"
   },
   "source": [
    "Damnn! (originally it was 512). Remember that we wanted the loss_scale to be as high as possible so that the gradients can use the whole range of representation."
   ]
  },
  {
   "cell_type": "markdown",
   "metadata": {
    "colab_type": "text",
    "id": "5LBGjXK5jlju"
   },
   "source": [
    "## Export"
   ]
  },
  {
   "cell_type": "code",
   "execution_count": null,
   "metadata": {
    "colab": {},
    "colab_type": "code",
    "id": "DYK5XesNjlju"
   },
   "outputs": [],
   "source": [
    "!./notebook2script.py 10c_fp16.ipynb"
   ]
  }
 ],
 "metadata": {
  "accelerator": "GPU",
  "colab": {
   "collapsed_sections": [],
   "name": "10c_FP16",
   "provenance": []
  },
  "kernelspec": {
   "display_name": "Python 3",
   "language": "python",
   "name": "python3"
  },
  "language_info": {
   "codemirror_mode": {
    "name": "ipython",
    "version": 3
   },
   "file_extension": ".py",
   "mimetype": "text/x-python",
   "name": "python",
   "nbconvert_exporter": "python",
   "pygments_lexer": "ipython3",
   "version": "3.7.4"
  }
 },
 "nbformat": 4,
 "nbformat_minor": 4
}
